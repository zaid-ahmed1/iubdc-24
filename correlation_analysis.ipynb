{
 "cells": [
  {
   "cell_type": "code",
   "execution_count": 20,
   "metadata": {},
   "outputs": [],
   "source": [
    "import numpy as np \n",
    "import pandas as pd \n",
    "import plotly.io as pio\n",
    "import plotly.express as px\n",
    "import plotly.graph_objects as go\n",
    "import matplotlib as plt"
   ]
  },
  {
   "cell_type": "code",
   "execution_count": 49,
   "metadata": {},
   "outputs": [
    {
     "data": {
      "application/vnd.plotly.v1+json": {
       "config": {
        "plotlyServerURL": "https://plot.ly"
       },
       "data": [
        {
         "colorscale": [
          [
           0,
           "rgb(165,0,38)"
          ],
          [
           0.1111111111111111,
           "rgb(215,48,39)"
          ],
          [
           0.2222222222222222,
           "rgb(244,109,67)"
          ],
          [
           0.3333333333333333,
           "rgb(253,174,97)"
          ],
          [
           0.4444444444444444,
           "rgb(254,224,144)"
          ],
          [
           0.5555555555555556,
           "rgb(224,243,248)"
          ],
          [
           0.6666666666666666,
           "rgb(171,217,233)"
          ],
          [
           0.7777777777777778,
           "rgb(116,173,209)"
          ],
          [
           0.8888888888888888,
           "rgb(69,117,180)"
          ],
          [
           1,
           "rgb(49,54,149)"
          ]
         ],
         "type": "heatmap",
         "x": [
          "GENHLTH",
          "MARITAL",
          "_SEX",
          "MENTHLTH",
          "_EDUCAG",
          "_INCOMG1",
          "POORHLTH",
          "ADDEPEV3",
          "_AGEG5YR",
          "_AGE65YR",
          "_AGE80",
          "_AGE_G",
          "DECIDE",
          "DIFFALON",
          "ACEDEPRS",
          "ACEDRINK",
          "ACEDRUGS",
          "ACEPRISN",
          "ACEDIVRC",
          "ACEPUNCH",
          "ACEHURT1",
          "ACESWEAR",
          "ACETOUCH",
          "ACETTHEM",
          "ACEHVSEX"
         ],
         "xgap": 1,
         "y": [
          "GENHLTH",
          "MARITAL",
          "_SEX",
          "MENTHLTH",
          "_EDUCAG",
          "_INCOMG1",
          "POORHLTH",
          "ADDEPEV3",
          "_AGEG5YR",
          "_AGE65YR",
          "_AGE80",
          "_AGE_G",
          "DECIDE",
          "DIFFALON",
          "ACEDEPRS",
          "ACEDRINK",
          "ACEDRUGS",
          "ACEPRISN",
          "ACEDIVRC",
          "ACEPUNCH",
          "ACEHURT1",
          "ACESWEAR",
          "ACETOUCH",
          "ACETTHEM",
          "ACEHVSEX"
         ],
         "ygap": 1,
         "z": [
          [
           1,
           null,
           null,
           null,
           null,
           null,
           null,
           null,
           null,
           null,
           null,
           null,
           null,
           null,
           null,
           null,
           null,
           null,
           null,
           null,
           null,
           null,
           null,
           null,
           null
          ],
          [
           0.05689554811593461,
           1,
           null,
           null,
           null,
           null,
           null,
           null,
           null,
           null,
           null,
           null,
           null,
           null,
           null,
           null,
           null,
           null,
           null,
           null,
           null,
           null,
           null,
           null,
           null
          ],
          [
           0.014668959521627892,
           -0.008422217573097345,
           1,
           null,
           null,
           null,
           null,
           null,
           null,
           null,
           null,
           null,
           null,
           null,
           null,
           null,
           null,
           null,
           null,
           null,
           null,
           null,
           null,
           null,
           null
          ],
          [
           -0.14358587314630544,
           -0.12619442760365324,
           -0.11000120311103535,
           1,
           null,
           null,
           null,
           null,
           null,
           null,
           null,
           null,
           null,
           null,
           null,
           null,
           null,
           null,
           null,
           null,
           null,
           null,
           null,
           null,
           null
          ],
          [
           -0.1893167868657464,
           -0.06081258060530284,
           0.02227752845711433,
           -0.005325915060679315,
           1,
           null,
           null,
           null,
           null,
           null,
           null,
           null,
           null,
           null,
           null,
           null,
           null,
           null,
           null,
           null,
           null,
           null,
           null,
           null,
           null
          ],
          [
           -0.146528022566057,
           -0.08564802013443056,
           -0.009254641317316794,
           0.09140806481522284,
           0.1680460575149305,
           1,
           null,
           null,
           null,
           null,
           null,
           null,
           null,
           null,
           null,
           null,
           null,
           null,
           null,
           null,
           null,
           null,
           null,
           null,
           null
          ],
          [
           -0.1527877652769956,
           -0.05363888881611242,
           -0.022157273909603356,
           0.036438292828516176,
           0.0008055387470777775,
           0.07625953933868522,
           1,
           null,
           null,
           null,
           null,
           null,
           null,
           null,
           null,
           null,
           null,
           null,
           null,
           null,
           null,
           null,
           null,
           null,
           null
          ],
          [
           -0.09778009782025009,
           -0.004216033953444228,
           -0.09330404901033426,
           0.2085686497250929,
           0.05644347061035486,
           0.09273035148370086,
           0.11489570844791493,
           1,
           null,
           null,
           null,
           null,
           null,
           null,
           null,
           null,
           null,
           null,
           null,
           null,
           null,
           null,
           null,
           null,
           null
          ],
          [
           0.1387678741058936,
           -0.27007157224958084,
           0.07210800422952862,
           0.2637524929895212,
           0.03801471175438843,
           0.02249656805242697,
           0.07779291936978512,
           0.08657216306464152,
           1,
           null,
           null,
           null,
           null,
           null,
           null,
           null,
           null,
           null,
           null,
           null,
           null,
           null,
           null,
           null,
           null
          ],
          [
           0.09288940098073044,
           -0.09424721257259878,
           0.048001209561733406,
           0.20515963671478923,
           0.03893384754717736,
           0.04473003215807952,
           0.07289710291489841,
           0.09456705669316913,
           0.8014492795542674,
           1,
           null,
           null,
           null,
           null,
           null,
           null,
           null,
           null,
           null,
           null,
           null,
           null,
           null,
           null,
           null
          ],
          [
           0.14240338776043626,
           -0.30587608221164003,
           0.07446030204888493,
           0.2637354242428206,
           0.017894562191892772,
           -0.004449370495608676,
           0.07487981101917474,
           0.06710822119783018,
           0.9684038425133642,
           0.7192436066877632,
           1,
           null,
           null,
           null,
           null,
           null,
           null,
           null,
           null,
           null,
           null,
           null,
           null,
           null,
           null
          ],
          [
           0.13911871761499556,
           -0.3303742313029156,
           0.06831963602396665,
           0.2556057405401577,
           0.027015576679350003,
           -0.008535165691131056,
           0.06868887417281747,
           0.06014246031800247,
           0.9444864072292946,
           0.6988143726748925,
           0.9726530132070089,
           1,
           null,
           null,
           null,
           null,
           null,
           null,
           null,
           null,
           null,
           null,
           null,
           null,
           null
          ],
          [
           -0.09331465937019168,
           0.00016981464167200848,
           -0.027308913923443087,
           0.10156576429586368,
           0.0959742846109365,
           0.09185014084248595,
           0.08924820034847435,
           0.19950981739668752,
           0.06395464522353274,
           0.06599493488302437,
           0.04934497042153622,
           0.05052956819459752,
           1,
           null,
           null,
           null,
           null,
           null,
           null,
           null,
           null,
           null,
           null,
           null,
           null
          ],
          [
           -0.11926312550038036,
           0.009310898246971056,
           -0.03343125891962521,
           0.06501976931320441,
           0.10071577185191802,
           0.09619307845118617,
           0.07887291054484528,
           0.1847647416701661,
           0.006588039498750477,
           0.025195541493081678,
           -0.00965472116265756,
           -0.004956833121437412,
           0.3215325975335326,
           1,
           null,
           null,
           null,
           null,
           null,
           null,
           null,
           null,
           null,
           null,
           null
          ],
          [
           -0.0012193477103052328,
           0.00826553734055509,
           -0.03458308002651397,
           0.08712457790396254,
           0.014662481137535299,
           0.07052779781151229,
           0.05386567223999,
           0.1242492972230513,
           0.0883581670381552,
           0.08167238608961104,
           0.0721857555697749,
           0.07090792639618078,
           0.14008840919549836,
           0.14127689202387667,
           1,
           null,
           null,
           null,
           null,
           null,
           null,
           null,
           null,
           null,
           null
          ],
          [
           -0.010995836089191469,
           0.02409854351243302,
           -0.026112136577251113,
           0.06495545862821656,
           0.046704109283135696,
           0.08218063850992964,
           0.03816719661491073,
           0.09576912141609743,
           0.0532104644432479,
           0.06523280838136156,
           0.032463492812986876,
           0.028727328783056495,
           0.12993859175080394,
           0.14343450396283172,
           0.6982558495155531,
           1,
           null,
           null,
           null,
           null,
           null,
           null,
           null,
           null,
           null
          ],
          [
           0.012884158373573292,
           0.022634470605143075,
           -0.008890141901295641,
           0.04553301813840546,
           0.0362128688627259,
           0.06583157489849278,
           0.02912273661675437,
           0.08505426212489721,
           0.0657815332782069,
           0.07126816708805525,
           0.04638667107860606,
           0.04443233983578222,
           0.12216043288556472,
           0.13915353977372638,
           0.6944105004724881,
           0.756106755303663,
           1,
           null,
           null,
           null,
           null,
           null,
           null,
           null,
           null
          ],
          [
           0.00637792953501917,
           0.013115078835425998,
           -0.00018804224381626357,
           0.039566033877828366,
           0.04479048248483922,
           0.07076997728675208,
           0.02543461215499004,
           0.0796263550005608,
           0.06333805618537834,
           0.06324455758150227,
           0.04416819451205368,
           0.0451109122781692,
           0.12094350470345806,
           0.14400263041873868,
           0.6941799821436239,
           0.7610954814138761,
           0.8041502034354843,
           1,
           null,
           null,
           null,
           null,
           null,
           null,
           null
          ],
          [
           0.017492325976983903,
           0.03282782281996344,
           -0.0010831934903956834,
           0.03216663974992716,
           0.03050655040159935,
           0.04814441607083746,
           0.017550313564367467,
           0.06463112948420337,
           0.05404801639994449,
           0.06531450681868177,
           0.038653475085312854,
           0.03740523275314084,
           0.09164809329501152,
           0.10875826369944866,
           0.49372706580929504,
           0.5384037747934571,
           0.5467927015101296,
           0.5736570021552616,
           1,
           null,
           null,
           null,
           null,
           null,
           null
          ],
          [
           0.08028860405972238,
           0.06592670444770529,
           0.005869843105858937,
           -0.06384292422924696,
           -0.037598861764682724,
           0.0073331273811335475,
           -0.029576421207518345,
           0.004297353553251737,
           -0.0475834473852526,
           -0.035544122213551806,
           -0.06477144362102699,
           -0.05942575785113337,
           0.04998720851053678,
           0.07650416908489333,
           0.4366499145268263,
           0.42690449060975677,
           0.4884360497709183,
           0.5162726592360686,
           0.3701435934813318,
           1,
           null,
           null,
           null,
           null,
           null
          ],
          [
           0.09037090941112856,
           0.06033848694172318,
           -0.01938252128283786,
           -0.05806705586357946,
           -0.023853879997560567,
           0.007673319398880775,
           -0.04112276663340294,
           0.0012273863558566133,
           -0.031428284992016484,
           -0.017309097636055794,
           -0.05021700087923016,
           -0.04501381308875817,
           0.051898206591798314,
           0.07319136089260919,
           0.4326274993536326,
           0.4466232264991959,
           0.49152915291694865,
           0.5192893859419566,
           0.38347794990929646,
           0.6203763813868478,
           1,
           null,
           null,
           null,
           null
          ],
          [
           0.0705816619587179,
           0.07224493021565882,
           -0.00642154212307345,
           -0.11720228850007323,
           0.011747738765372192,
           0.017546745049423305,
           -0.06393064305214638,
           -0.02601825271516175,
           -0.09999915824558092,
           -0.07014625061171757,
           -0.117290997257312,
           -0.1087525513525447,
           0.0333664158632038,
           0.06452008084091129,
           0.3716902173412888,
           0.3878037266730443,
           0.4359581649974532,
           0.46589017833214874,
           0.33107333147448925,
           0.5588981344356925,
           0.6243236074666105,
           1,
           null,
           null,
           null
          ],
          [
           0.072267025673524,
           0.05831882786706112,
           0.08650243018262571,
           -0.06544803205884497,
           0.002945530076204255,
           0.014080831964498877,
           -0.04476124954394571,
           -0.02026180292249172,
           -0.03166060031926103,
           -0.023741801153215062,
           -0.04872752154357865,
           -0.04273971461897701,
           0.04428374027070717,
           0.07572179849046562,
           0.44989414245095555,
           0.48685278689296124,
           0.513503911178275,
           0.5500463178217706,
           0.4083800089477092,
           0.5316645505975983,
           0.5602080093688062,
           0.5275773048530178,
           1,
           null,
           null
          ],
          [
           0.06512790623821657,
           0.0576594293413069,
           0.05940400714976442,
           -0.05595305735963854,
           0.002106262460067244,
           0.01722414334042259,
           -0.036632989426123544,
           -0.006821699302360683,
           -0.031041231014969365,
           -0.02298041707716925,
           -0.04795502768042415,
           -0.04225733153156348,
           0.0488839198675105,
           0.08182589176400829,
           0.47248431758564763,
           0.5083187260775996,
           0.53731509860935,
           0.5700267904629319,
           0.4227801673162386,
           0.5363914448511081,
           0.5588444509145549,
           0.5230729612286854,
           0.8696413028583878,
           1,
           null
          ],
          [
           0.06286475100980701,
           0.056753953072787196,
           0.04549687971282912,
           -0.037776078603376076,
           -0.0020944413732226774,
           0.02414088977624786,
           -0.025712639520437657,
           0.00745948611960495,
           -0.02106550792779888,
           -0.010853522642516688,
           -0.03831566262194241,
           -0.033621068086920086,
           0.05458945840146492,
           0.08654700143098269,
           0.49211044427616646,
           0.5270452028428777,
           0.5529768737731146,
           0.5835469615217459,
           0.4322103559850996,
           0.532096319639752,
           0.5514595130322116,
           0.5142844656554596,
           0.8112696301068526,
           0.8581060547668574,
           1
          ]
         ],
         "zmax": 1,
         "zmin": -1
        }
       ],
       "layout": {
        "height": 600,
        "template": {
         "data": {
          "bar": [
           {
            "error_x": {
             "color": "#2a3f5f"
            },
            "error_y": {
             "color": "#2a3f5f"
            },
            "marker": {
             "line": {
              "color": "white",
              "width": 0.5
             },
             "pattern": {
              "fillmode": "overlay",
              "size": 10,
              "solidity": 0.2
             }
            },
            "type": "bar"
           }
          ],
          "barpolar": [
           {
            "marker": {
             "line": {
              "color": "white",
              "width": 0.5
             },
             "pattern": {
              "fillmode": "overlay",
              "size": 10,
              "solidity": 0.2
             }
            },
            "type": "barpolar"
           }
          ],
          "carpet": [
           {
            "aaxis": {
             "endlinecolor": "#2a3f5f",
             "gridcolor": "#C8D4E3",
             "linecolor": "#C8D4E3",
             "minorgridcolor": "#C8D4E3",
             "startlinecolor": "#2a3f5f"
            },
            "baxis": {
             "endlinecolor": "#2a3f5f",
             "gridcolor": "#C8D4E3",
             "linecolor": "#C8D4E3",
             "minorgridcolor": "#C8D4E3",
             "startlinecolor": "#2a3f5f"
            },
            "type": "carpet"
           }
          ],
          "choropleth": [
           {
            "colorbar": {
             "outlinewidth": 0,
             "ticks": ""
            },
            "type": "choropleth"
           }
          ],
          "contour": [
           {
            "colorbar": {
             "outlinewidth": 0,
             "ticks": ""
            },
            "colorscale": [
             [
              0,
              "#0d0887"
             ],
             [
              0.1111111111111111,
              "#46039f"
             ],
             [
              0.2222222222222222,
              "#7201a8"
             ],
             [
              0.3333333333333333,
              "#9c179e"
             ],
             [
              0.4444444444444444,
              "#bd3786"
             ],
             [
              0.5555555555555556,
              "#d8576b"
             ],
             [
              0.6666666666666666,
              "#ed7953"
             ],
             [
              0.7777777777777778,
              "#fb9f3a"
             ],
             [
              0.8888888888888888,
              "#fdca26"
             ],
             [
              1,
              "#f0f921"
             ]
            ],
            "type": "contour"
           }
          ],
          "contourcarpet": [
           {
            "colorbar": {
             "outlinewidth": 0,
             "ticks": ""
            },
            "type": "contourcarpet"
           }
          ],
          "heatmap": [
           {
            "colorbar": {
             "outlinewidth": 0,
             "ticks": ""
            },
            "colorscale": [
             [
              0,
              "#0d0887"
             ],
             [
              0.1111111111111111,
              "#46039f"
             ],
             [
              0.2222222222222222,
              "#7201a8"
             ],
             [
              0.3333333333333333,
              "#9c179e"
             ],
             [
              0.4444444444444444,
              "#bd3786"
             ],
             [
              0.5555555555555556,
              "#d8576b"
             ],
             [
              0.6666666666666666,
              "#ed7953"
             ],
             [
              0.7777777777777778,
              "#fb9f3a"
             ],
             [
              0.8888888888888888,
              "#fdca26"
             ],
             [
              1,
              "#f0f921"
             ]
            ],
            "type": "heatmap"
           }
          ],
          "heatmapgl": [
           {
            "colorbar": {
             "outlinewidth": 0,
             "ticks": ""
            },
            "colorscale": [
             [
              0,
              "#0d0887"
             ],
             [
              0.1111111111111111,
              "#46039f"
             ],
             [
              0.2222222222222222,
              "#7201a8"
             ],
             [
              0.3333333333333333,
              "#9c179e"
             ],
             [
              0.4444444444444444,
              "#bd3786"
             ],
             [
              0.5555555555555556,
              "#d8576b"
             ],
             [
              0.6666666666666666,
              "#ed7953"
             ],
             [
              0.7777777777777778,
              "#fb9f3a"
             ],
             [
              0.8888888888888888,
              "#fdca26"
             ],
             [
              1,
              "#f0f921"
             ]
            ],
            "type": "heatmapgl"
           }
          ],
          "histogram": [
           {
            "marker": {
             "pattern": {
              "fillmode": "overlay",
              "size": 10,
              "solidity": 0.2
             }
            },
            "type": "histogram"
           }
          ],
          "histogram2d": [
           {
            "colorbar": {
             "outlinewidth": 0,
             "ticks": ""
            },
            "colorscale": [
             [
              0,
              "#0d0887"
             ],
             [
              0.1111111111111111,
              "#46039f"
             ],
             [
              0.2222222222222222,
              "#7201a8"
             ],
             [
              0.3333333333333333,
              "#9c179e"
             ],
             [
              0.4444444444444444,
              "#bd3786"
             ],
             [
              0.5555555555555556,
              "#d8576b"
             ],
             [
              0.6666666666666666,
              "#ed7953"
             ],
             [
              0.7777777777777778,
              "#fb9f3a"
             ],
             [
              0.8888888888888888,
              "#fdca26"
             ],
             [
              1,
              "#f0f921"
             ]
            ],
            "type": "histogram2d"
           }
          ],
          "histogram2dcontour": [
           {
            "colorbar": {
             "outlinewidth": 0,
             "ticks": ""
            },
            "colorscale": [
             [
              0,
              "#0d0887"
             ],
             [
              0.1111111111111111,
              "#46039f"
             ],
             [
              0.2222222222222222,
              "#7201a8"
             ],
             [
              0.3333333333333333,
              "#9c179e"
             ],
             [
              0.4444444444444444,
              "#bd3786"
             ],
             [
              0.5555555555555556,
              "#d8576b"
             ],
             [
              0.6666666666666666,
              "#ed7953"
             ],
             [
              0.7777777777777778,
              "#fb9f3a"
             ],
             [
              0.8888888888888888,
              "#fdca26"
             ],
             [
              1,
              "#f0f921"
             ]
            ],
            "type": "histogram2dcontour"
           }
          ],
          "mesh3d": [
           {
            "colorbar": {
             "outlinewidth": 0,
             "ticks": ""
            },
            "type": "mesh3d"
           }
          ],
          "parcoords": [
           {
            "line": {
             "colorbar": {
              "outlinewidth": 0,
              "ticks": ""
             }
            },
            "type": "parcoords"
           }
          ],
          "pie": [
           {
            "automargin": true,
            "type": "pie"
           }
          ],
          "scatter": [
           {
            "fillpattern": {
             "fillmode": "overlay",
             "size": 10,
             "solidity": 0.2
            },
            "type": "scatter"
           }
          ],
          "scatter3d": [
           {
            "line": {
             "colorbar": {
              "outlinewidth": 0,
              "ticks": ""
             }
            },
            "marker": {
             "colorbar": {
              "outlinewidth": 0,
              "ticks": ""
             }
            },
            "type": "scatter3d"
           }
          ],
          "scattercarpet": [
           {
            "marker": {
             "colorbar": {
              "outlinewidth": 0,
              "ticks": ""
             }
            },
            "type": "scattercarpet"
           }
          ],
          "scattergeo": [
           {
            "marker": {
             "colorbar": {
              "outlinewidth": 0,
              "ticks": ""
             }
            },
            "type": "scattergeo"
           }
          ],
          "scattergl": [
           {
            "marker": {
             "colorbar": {
              "outlinewidth": 0,
              "ticks": ""
             }
            },
            "type": "scattergl"
           }
          ],
          "scattermapbox": [
           {
            "marker": {
             "colorbar": {
              "outlinewidth": 0,
              "ticks": ""
             }
            },
            "type": "scattermapbox"
           }
          ],
          "scatterpolar": [
           {
            "marker": {
             "colorbar": {
              "outlinewidth": 0,
              "ticks": ""
             }
            },
            "type": "scatterpolar"
           }
          ],
          "scatterpolargl": [
           {
            "marker": {
             "colorbar": {
              "outlinewidth": 0,
              "ticks": ""
             }
            },
            "type": "scatterpolargl"
           }
          ],
          "scatterternary": [
           {
            "marker": {
             "colorbar": {
              "outlinewidth": 0,
              "ticks": ""
             }
            },
            "type": "scatterternary"
           }
          ],
          "surface": [
           {
            "colorbar": {
             "outlinewidth": 0,
             "ticks": ""
            },
            "colorscale": [
             [
              0,
              "#0d0887"
             ],
             [
              0.1111111111111111,
              "#46039f"
             ],
             [
              0.2222222222222222,
              "#7201a8"
             ],
             [
              0.3333333333333333,
              "#9c179e"
             ],
             [
              0.4444444444444444,
              "#bd3786"
             ],
             [
              0.5555555555555556,
              "#d8576b"
             ],
             [
              0.6666666666666666,
              "#ed7953"
             ],
             [
              0.7777777777777778,
              "#fb9f3a"
             ],
             [
              0.8888888888888888,
              "#fdca26"
             ],
             [
              1,
              "#f0f921"
             ]
            ],
            "type": "surface"
           }
          ],
          "table": [
           {
            "cells": {
             "fill": {
              "color": "#EBF0F8"
             },
             "line": {
              "color": "white"
             }
            },
            "header": {
             "fill": {
              "color": "#C8D4E3"
             },
             "line": {
              "color": "white"
             }
            },
            "type": "table"
           }
          ]
         },
         "layout": {
          "annotationdefaults": {
           "arrowcolor": "#2a3f5f",
           "arrowhead": 0,
           "arrowwidth": 1
          },
          "autotypenumbers": "strict",
          "coloraxis": {
           "colorbar": {
            "outlinewidth": 0,
            "ticks": ""
           }
          },
          "colorscale": {
           "diverging": [
            [
             0,
             "#8e0152"
            ],
            [
             0.1,
             "#c51b7d"
            ],
            [
             0.2,
             "#de77ae"
            ],
            [
             0.3,
             "#f1b6da"
            ],
            [
             0.4,
             "#fde0ef"
            ],
            [
             0.5,
             "#f7f7f7"
            ],
            [
             0.6,
             "#e6f5d0"
            ],
            [
             0.7,
             "#b8e186"
            ],
            [
             0.8,
             "#7fbc41"
            ],
            [
             0.9,
             "#4d9221"
            ],
            [
             1,
             "#276419"
            ]
           ],
           "sequential": [
            [
             0,
             "#0d0887"
            ],
            [
             0.1111111111111111,
             "#46039f"
            ],
            [
             0.2222222222222222,
             "#7201a8"
            ],
            [
             0.3333333333333333,
             "#9c179e"
            ],
            [
             0.4444444444444444,
             "#bd3786"
            ],
            [
             0.5555555555555556,
             "#d8576b"
            ],
            [
             0.6666666666666666,
             "#ed7953"
            ],
            [
             0.7777777777777778,
             "#fb9f3a"
            ],
            [
             0.8888888888888888,
             "#fdca26"
            ],
            [
             1,
             "#f0f921"
            ]
           ],
           "sequentialminus": [
            [
             0,
             "#0d0887"
            ],
            [
             0.1111111111111111,
             "#46039f"
            ],
            [
             0.2222222222222222,
             "#7201a8"
            ],
            [
             0.3333333333333333,
             "#9c179e"
            ],
            [
             0.4444444444444444,
             "#bd3786"
            ],
            [
             0.5555555555555556,
             "#d8576b"
            ],
            [
             0.6666666666666666,
             "#ed7953"
            ],
            [
             0.7777777777777778,
             "#fb9f3a"
            ],
            [
             0.8888888888888888,
             "#fdca26"
            ],
            [
             1,
             "#f0f921"
            ]
           ]
          },
          "colorway": [
           "#636efa",
           "#EF553B",
           "#00cc96",
           "#ab63fa",
           "#FFA15A",
           "#19d3f3",
           "#FF6692",
           "#B6E880",
           "#FF97FF",
           "#FECB52"
          ],
          "font": {
           "color": "#2a3f5f"
          },
          "geo": {
           "bgcolor": "white",
           "lakecolor": "white",
           "landcolor": "white",
           "showlakes": true,
           "showland": true,
           "subunitcolor": "#C8D4E3"
          },
          "hoverlabel": {
           "align": "left"
          },
          "hovermode": "closest",
          "mapbox": {
           "style": "light"
          },
          "paper_bgcolor": "white",
          "plot_bgcolor": "white",
          "polar": {
           "angularaxis": {
            "gridcolor": "#EBF0F8",
            "linecolor": "#EBF0F8",
            "ticks": ""
           },
           "bgcolor": "white",
           "radialaxis": {
            "gridcolor": "#EBF0F8",
            "linecolor": "#EBF0F8",
            "ticks": ""
           }
          },
          "scene": {
           "xaxis": {
            "backgroundcolor": "white",
            "gridcolor": "#DFE8F3",
            "gridwidth": 2,
            "linecolor": "#EBF0F8",
            "showbackground": true,
            "ticks": "",
            "zerolinecolor": "#EBF0F8"
           },
           "yaxis": {
            "backgroundcolor": "white",
            "gridcolor": "#DFE8F3",
            "gridwidth": 2,
            "linecolor": "#EBF0F8",
            "showbackground": true,
            "ticks": "",
            "zerolinecolor": "#EBF0F8"
           },
           "zaxis": {
            "backgroundcolor": "white",
            "gridcolor": "#DFE8F3",
            "gridwidth": 2,
            "linecolor": "#EBF0F8",
            "showbackground": true,
            "ticks": "",
            "zerolinecolor": "#EBF0F8"
           }
          },
          "shapedefaults": {
           "line": {
            "color": "#2a3f5f"
           }
          },
          "ternary": {
           "aaxis": {
            "gridcolor": "#DFE8F3",
            "linecolor": "#A2B1C6",
            "ticks": ""
           },
           "baxis": {
            "gridcolor": "#DFE8F3",
            "linecolor": "#A2B1C6",
            "ticks": ""
           },
           "bgcolor": "white",
           "caxis": {
            "gridcolor": "#DFE8F3",
            "linecolor": "#A2B1C6",
            "ticks": ""
           }
          },
          "title": {
           "x": 0.05
          },
          "xaxis": {
           "automargin": true,
           "gridcolor": "#EBF0F8",
           "linecolor": "#EBF0F8",
           "ticks": "",
           "title": {
            "standoff": 15
           },
           "zerolinecolor": "#EBF0F8",
           "zerolinewidth": 2
          },
          "yaxis": {
           "automargin": true,
           "gridcolor": "#EBF0F8",
           "linecolor": "#EBF0F8",
           "ticks": "",
           "title": {
            "standoff": 15
           },
           "zerolinecolor": "#EBF0F8",
           "zerolinewidth": 2
          }
         }
        },
        "title": {
         "text": "Variables Correlation Matrix",
         "x": 0.5
        },
        "width": 600,
        "xaxis": {
         "showgrid": false
        },
        "yaxis": {
         "autorange": "reversed",
         "showgrid": false
        }
       }
      }
     },
     "metadata": {},
     "output_type": "display_data"
    }
   ],
   "source": [
    "import seaborn as sns\n",
    "import matplotlib.pyplot as plt\n",
    "# Read your csv file into a pandas DataFrame\n",
    "df = pd.read_csv('C:/Users/Rehma/Downloads/ace_data.csv')\n",
    "\n",
    "# Compute the correlation matrix\n",
    "corr = df.corr()\n",
    "\n",
    "# Generate a mask for the upper triangle\n",
    "mask = np.triu(np.ones_like(corr, dtype=bool), k=1)\n",
    "\n",
    "heatmap = go.Heatmap(\n",
    "    z = corr.mask(mask),\n",
    "    x = corr.columns.values,\n",
    "    y = corr.columns.values,\n",
    "    zmin = - 1, # Sets the lower bound of the color domain\n",
    "    zmax = 1,\n",
    "    xgap = 1, # Sets the horizontal gap (in pixels) between bricks\n",
    "    ygap = 1,\n",
    "    colorscale=[[0.0, \"rgb(165,0,38)\"],\n",
    "                [0.1111111111111111, \"rgb(215,48,39)\"],\n",
    "                [0.2222222222222222, \"rgb(244,109,67)\"],\n",
    "                [0.3333333333333333, \"rgb(253,174,97)\"],\n",
    "                [0.4444444444444444, \"rgb(254,224,144)\"],\n",
    "                [0.5555555555555556, \"rgb(224,243,248)\"],\n",
    "                [0.6666666666666666, \"rgb(171,217,233)\"],\n",
    "                [0.7777777777777778, \"rgb(116,173,209)\"],\n",
    "                [0.8888888888888888, \"rgb(69,117,180)\"],\n",
    "                [1.0, \"rgb(49,54,149)\"]]\n",
    ")\n",
    "    \n",
    "\n",
    "\n",
    "title = 'Variables Correlation Matrix'\n",
    "\n",
    "layout = go.Layout(\n",
    "    title_text=title, \n",
    "    title_x=0.5, \n",
    "    width=600, \n",
    "    height=600,\n",
    "    xaxis_showgrid=False,\n",
    "    yaxis_showgrid=False,\n",
    "    yaxis_autorange='reversed'\n",
    ")\n",
    "\n",
    "fig=go.Figure(data=[heatmap], layout=layout)\n",
    "fig.show()"
   ]
  }
 ],
 "metadata": {
  "kernelspec": {
   "display_name": "Python 3",
   "language": "python",
   "name": "python3"
  },
  "language_info": {
   "codemirror_mode": {
    "name": "ipython",
    "version": 3
   },
   "file_extension": ".py",
   "mimetype": "text/x-python",
   "name": "python",
   "nbconvert_exporter": "python",
   "pygments_lexer": "ipython3",
   "version": "3.11.9"
  }
 },
 "nbformat": 4,
 "nbformat_minor": 2
}
